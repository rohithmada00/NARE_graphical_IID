{
  "cells": [
    {
      "cell_type": "code",
      "execution_count": 4,
      "metadata": {
        "id": "zs9xYzKTzuD4"
      },
      "outputs": [],
      "source": [
        "import numpy as np\n",
        "import scipy.sparse as sp\n",
        "from scipy.sparse import csc_matrix"
      ]
    },
    {
      "cell_type": "code",
      "execution_count": 5,
      "metadata": {
        "id": "je8SzuFHlOOR"
      },
      "outputs": [],
      "source": [
        "def make_sparse_spd_matrix(\n",
        "    n_dim=10,\n",
        "    alpha=0.95,\n",
        "    norm_diag=False,\n",
        "    smallest_coef=0.1,\n",
        "    largest_coef=0.9,\n",
        "    random_state=None\n",
        "):\n",
        "    \"\"\"\n",
        "    Generate a sparse symmetric positive definite (SPD) matrix.\n",
        "\n",
        "    Parameters\n",
        "    ----------\n",
        "    n_dim : int, default=10\n",
        "        The size of the random matrix to generate.\n",
        "\n",
        "    alpha : float, default=0.95\n",
        "        The probability that a coefficient is zero, controlling sparsity.\n",
        "        Higher values mean more sparsity. Should be between 0 and 1.\n",
        "\n",
        "    norm_diag : bool, default=False\n",
        "        If True, normalizes the matrix so that the diagonal elements are all 1.\n",
        "\n",
        "    smallest_coef : float, default=0.1\n",
        "        The smallest coefficient in the randomly generated values (between 0 and 1).\n",
        "\n",
        "    largest_coef : float, default=0.9\n",
        "        The largest coefficient in the randomly generated values (between 0 and 1).\n",
        "\n",
        "    random_state : int or None, default=None\n",
        "        Seed for random number generation, ensuring reproducible results.\n",
        "\n",
        "    Returns\n",
        "    -------\n",
        "    ndarray or sparse matrix\n",
        "        The generated sparse SPD matrix as a dense ndarray.\n",
        "    \"\"\"\n",
        "    rng = np.random.default_rng(random_state)\n",
        "\n",
        "    # Start with a negative identity matrix, which will form the basis of the Cholesky factor.\n",
        "    chol = -sp.eye(n_dim, format=\"csc\")\n",
        "\n",
        "    # Generate a random sparse lower triangular matrix to add sparsity\n",
        "    aux = sp.random(\n",
        "        m=n_dim, n=n_dim, density=1 - alpha,\n",
        "        data_rvs=lambda x: rng.uniform(low=smallest_coef, high=largest_coef, size=x),\n",
        "        format=\"csc\"\n",
        "    )\n",
        "    aux = sp.tril(aux, k=-1, format=\"csc\")\n",
        "\n",
        "    # Randomly permute rows and columns to avoid asymmetries\n",
        "    permutation = rng.permutation(n_dim)\n",
        "    aux = aux[permutation].T[permutation]\n",
        "\n",
        "    # Add the sparse auxiliary matrix to the Cholesky factor\n",
        "    chol += aux\n",
        "\n",
        "    # Form the SPD matrix by taking the product of the Cholesky factor with its transpose\n",
        "    prec = chol.T @ chol\n",
        "\n",
        "    # Optionally normalize the diagonal to 1\n",
        "    if norm_diag:\n",
        "        d = sp.diags(1.0 / np.sqrt(prec.diagonal()))\n",
        "        prec = d @ prec @ d\n",
        "\n",
        "    return prec.toarray()\n"
      ]
    },
    {
      "cell_type": "code",
      "execution_count": 6,
      "metadata": {
        "id": "c49D6hHYld0j"
      },
      "outputs": [],
      "source": [
        "import numpy as np\n",
        "import scipy.linalg as la\n",
        "import scipy.sparse as sparse\n",
        "from scipy.linalg import solve_sylvester, norm\n",
        "\n",
        "# Fix random number generator for reproducibility\n",
        "np.random.seed(0)"
      ]
    },
    {
      "cell_type": "code",
      "execution_count": 7,
      "metadata": {
        "id": "8tgDmkf5Lg2o"
      },
      "outputs": [],
      "source": [
        "def generate_sparse_covariance(n, N, alpha=0.8, random_state=42):\n",
        "    \"\"\"\n",
        "    Generate a sparse inverse covariance matrix B, compute its associated covariance matrix E,\n",
        "    and generate N samples from a multivariate normal distribution with covariance E.\n",
        "\n",
        "    Parameters:\n",
        "    - n (int): Dimension of the matrix.\n",
        "    - N (int): Number of samples to generate.\n",
        "    - alpha (float): Sparsity level for the sparse SPD matrix.\n",
        "    - random_state (int): Random seed for reproducibility.\n",
        "\n",
        "    Returns:\n",
        "    - B (np.ndarray): Sparse inverse covariance matrix (precision matrix).\n",
        "    - Strue (np.ndarray): True inverse covariance matrix (squared B).\n",
        "    - E (np.ndarray): Covariance matrix (inverse of Strue).\n",
        "    - y_samples (np.ndarray): Generated samples following N(0, E).\n",
        "    - S (np.ndarray): Sample covariance matrix from the generated samples.\n",
        "    \"\"\"\n",
        "    # Create sparse inverse covariance matrix (B)\n",
        "    B = make_sparse_spd_matrix(n_dim=n, alpha=alpha, norm_diag=True, random_state=random_state)\n",
        "\n",
        "    # Compute true inverse covariance matrix (Strue)\n",
        "    Strue = np.linalg.matrix_power(B, 2)\n",
        "\n",
        "    # Compute covariance matrix (E)\n",
        "    E = np.linalg.inv(Strue)\n",
        "\n",
        "    # Generate N samples Y ~ N(0, E)\n",
        "    y_samples = la.sqrtm(E).dot(np.random.randn(n, N))\n",
        "\n",
        "    # Calculate sample covariance matrix\n",
        "    S = np.cov(y_samples)\n",
        "\n",
        "    return B, Strue, E, y_samples, S\n"
      ]
    },
    {
      "cell_type": "code",
      "execution_count": 8,
      "metadata": {
        "id": "tQGJnPihlgjt"
      },
      "outputs": [],
      "source": [
        "def newton_nare(A, B, C, D, X0, tol=1e-13, kmax=30):\n",
        "    \"\"\"\n",
        "    Newton's method for solving the Nonlinear Algebraic Riccati Equation (NARE):\n",
        "    C + XA + DX - XBX = 0\n",
        "    \"\"\"\n",
        "    X = X0.copy()\n",
        "    k = 0\n",
        "    err = 1\n",
        "\n",
        "    while err > tol and k < kmax:\n",
        "        # Compute residual RX = C + XA + DX - XBX\n",
        "        RX = C + X @ A + D @ X - X @ B @ X\n",
        "\n",
        "        # Solve the Sylvester equation (D - XB)H + H(A - BX) = -RX for H\n",
        "        H = solve_sylvester(D - X @ B, A - B @ X, -RX)\n",
        "\n",
        "        # Update X\n",
        "        X = X + H\n",
        "\n",
        "        # Calculate the error\n",
        "        err = norm(H, 1) / norm(X, 1)\n",
        "\n",
        "        # Increment iteration counter\n",
        "        k += 1\n",
        "\n",
        "    # Check if the solution converged\n",
        "    if k == kmax:\n",
        "        print(\"Warning: reached the maximum number of iterations without convergence.\")\n",
        "\n",
        "    return X"
      ]
    },
    {
      "cell_type": "code",
      "execution_count": 9,
      "metadata": {
        "id": "sdGMJuRwnPup"
      },
      "outputs": [],
      "source": [
        "# Soft thresholding function\n",
        "def soft_thresholding(x, threshold):\n",
        "    \"\"\"Applies soft-thresholding elementwise.\"\"\"\n",
        "    return np.sign(x) * np.maximum(np.abs(x) - threshold, 0)"
      ]
    },
    {
      "cell_type": "code",
      "execution_count": 10,
      "metadata": {
        "id": "h2vCOGBFnT5J"
      },
      "outputs": [],
      "source": [
        "\n",
        "# ADMM Algorithm for Elastic-Net Penalized Precision Matrix Estimation\n",
        "def admm_precision_matrix(S, lambda_, alpha, rho=1.0, max_iter=100, tol=1e-4):\n",
        "    \"\"\"\n",
        "    ADMM algorithm for precision matrix estimation with elastic-net penalty.\n",
        "    \"\"\"\n",
        "    n = S.shape[0]\n",
        "    Z = np.zeros((n, n))\n",
        "    Lambda = np.zeros((n, n))\n",
        "    I = np.eye(n)  # Identity matrix\n",
        "\n",
        "    # Initial B (can be initialized as identity matrix)\n",
        "    B = np.eye(n)\n",
        "\n",
        "    for k in range(max_iter):\n",
        "        # Step 1: Update B using Newton NARE\n",
        "        # Here, we set up the matrices to solve the NARE: A3 + XA1 + A4X - XA2X = 0\n",
        "        A3 = - 2 * I\n",
        "        A4 = Lambda - rho * Z\n",
        "        A1 = 0 * I\n",
        "        A2 = - (2 * S + rho * I)\n",
        "        X0 = B  # Initial guess for Newton NARE\n",
        "\n",
        "        # Solve for the new B using Newton NARE\n",
        "        B_new = newton_nare(A1, A2, A3, A4, X0)\n",
        "\n",
        "        # Step 2: Update Z elementwise using soft-thresholding\n",
        "        Z_new = soft_thresholding(rho * B_new + Lambda, lambda_)\n",
        "        Z_new = Z_new / rho\n",
        "\n",
        "        # Step 3: Update Lambda (Lagrange multiplier)\n",
        "        Lambda_new = Lambda + rho * (B_new - Z_new)\n",
        "\n",
        "        # Check convergence\n",
        "        if np.linalg.norm(B_new - B, ord='fro') < tol:\n",
        "            print(f\"Converged after {k+1} iterations.\")\n",
        "            break\n",
        "\n",
        "        # Update for the next iteration\n",
        "        B, Z, Lambda = B_new, Z_new, Lambda_new\n",
        "\n",
        "    return B"
      ]
    },
    {
      "cell_type": "code",
      "execution_count": 11,
      "metadata": {
        "id": "U0IvvFLPs1u-"
      },
      "outputs": [],
      "source": [
        "#Thresholding B_estimate\n",
        "def hard_threshold(B_estimate,threshold):\n",
        "  return np.where(np.abs(B_estimate) > threshold, B_estimate, 0)"
      ]
    },
    {
      "cell_type": "code",
      "execution_count": 12,
      "metadata": {
        "colab": {
          "base_uri": "https://localhost:8080/"
        },
        "id": "s5NVwB5Kn26W",
        "outputId": "f8c3860d-c27c-4032-a105-3dc8fc9178d2"
      },
      "outputs": [
        {
          "name": "stdout",
          "output_type": "stream",
          "text": [
            "Converged after 58 iterations.\n",
            "Estimated Precision Matrix (B estimate):\n",
            "[[ 8.15623392e-01  4.82672540e-05 -4.55276708e-01  1.34197512e-01\n",
            "  -6.35834586e-02 -7.79987792e-04 -3.04281179e-01  1.89868025e-01\n",
            "  -2.50657377e-04  2.81095623e-02]\n",
            " [ 6.43929637e-03  9.75770481e-01  1.37838311e-05 -3.55516390e-02\n",
            "   7.98768390e-07  6.73760428e-03 -3.91509750e-06  1.17100851e-05\n",
            "   3.34967246e-02  7.59102129e-08]\n",
            " [-4.61856379e-01  3.02696448e-05  7.97365300e-01 -2.98196191e-01\n",
            "  -2.87799175e-03  1.31359814e-04  6.62136959e-05 -3.29175455e-01\n",
            "  -4.65531810e-05 -5.69954306e-05]\n",
            " [ 1.33768106e-01 -2.97156842e-02 -2.98335073e-01  8.61011940e-01\n",
            "  -3.25962949e-03 -4.47769225e-06  3.89148280e-02 -2.66797474e-01\n",
            "  -4.28109534e-02 -2.49131386e-05]\n",
            " [-4.66086498e-02  2.38281477e-06 -3.55616019e-02 -9.41820007e-03\n",
            "   9.53763450e-01 -2.63207624e-02  2.63535521e-02 -2.56885394e-06\n",
            "  -8.88916559e-03  1.47560400e-03]\n",
            " [-9.47469789e-05  5.95581652e-03  1.09368409e-04  2.08507950e-04\n",
            "  -2.11153725e-02  8.28135406e-01 -3.30264266e-01  1.62671538e-04\n",
            "  -4.40180503e-01  4.66588658e-02]\n",
            " [-3.02589113e-01 -8.96511514e-04 -1.86161902e-05  2.27977556e-02\n",
            "   3.09894774e-02 -3.16847596e-01  8.00411673e-01 -3.33488326e-05\n",
            "   1.83182701e-01 -1.68969949e-05]\n",
            " [ 1.79094813e-01  6.08679831e-06 -3.22751471e-01 -2.68706976e-01\n",
            "   1.59395595e-06 -4.76081967e-05 -4.11206024e-05  9.58511931e-01\n",
            "   4.64539014e-02 -1.71561996e-05]\n",
            " [-2.71318967e-04  6.03940930e-03 -2.53765607e-04 -2.44788500e-02\n",
            "  -4.35150795e-05 -4.41137125e-01  1.91353273e-01  2.75758799e-02\n",
            "   8.86074265e-01  1.26796202e-05]\n",
            " [ 3.43021723e-02 -3.93133788e-05 -2.40543088e-04 -2.67736710e-04\n",
            "  -1.04873751e-05  7.43495212e-02  3.03522811e-03 -5.47479440e-03\n",
            "  -3.93667912e-05  9.89268955e-01]]\n",
            "Symmetric Estimated Precision Matrix (B estimate):\n",
            "[[ 8.15623392e-01  3.24378181e-03 -4.58566543e-01  1.33982809e-01\n",
            "  -5.50960542e-02 -4.37367385e-04 -3.03435146e-01  1.84481419e-01\n",
            "  -2.60988172e-04  3.12058673e-02]\n",
            " [ 3.24378181e-03  9.75770481e-01  2.20267379e-05 -3.26336616e-02\n",
            "   1.59079158e-06  6.34671040e-03 -4.50213306e-04  8.89844169e-06\n",
            "   1.97680669e-02 -1.96187343e-05]\n",
            " [-4.58566543e-01  2.20267379e-05  7.97365300e-01 -2.98265632e-01\n",
            "  -1.92197968e-02  1.20364112e-04  2.37987528e-05 -3.25963463e-01\n",
            "  -1.50159394e-04 -1.48769259e-04]\n",
            " [ 1.33982809e-01 -3.26336616e-02 -2.98265632e-01  8.61011940e-01\n",
            "  -6.33891478e-03  1.02015129e-04  3.08562918e-02 -2.67752225e-01\n",
            "  -3.36449017e-02 -1.46324924e-04]\n",
            " [-5.50960542e-02  1.59079158e-06 -1.92197968e-02 -6.33891478e-03\n",
            "   9.53763450e-01 -2.37180675e-02  2.86715147e-02 -4.87448993e-07\n",
            "  -4.46634033e-03  7.32558313e-04]\n",
            " [-4.37367385e-04  6.34671040e-03  1.20364112e-04  1.02015129e-04\n",
            "  -2.37180675e-02  8.28135406e-01 -3.23555931e-01  5.75316706e-05\n",
            "  -4.40658814e-01  6.05041935e-02]\n",
            " [-3.03435146e-01 -4.50213306e-04  2.37987528e-05  3.08562918e-02\n",
            "   2.86715147e-02 -3.23555931e-01  8.00411673e-01 -3.72347175e-05\n",
            "   1.87267987e-01  1.50916556e-03]\n",
            " [ 1.84481419e-01  8.89844169e-06 -3.25963463e-01 -2.67752225e-01\n",
            "  -4.87448993e-07  5.75316706e-05 -3.72347175e-05  9.58511931e-01\n",
            "   3.70148906e-02 -2.74597530e-03]\n",
            " [-2.60988172e-04  1.97680669e-02 -1.50159394e-04 -3.36449017e-02\n",
            "  -4.46634033e-03 -4.40658814e-01  1.87267987e-01  3.70148906e-02\n",
            "   8.86074265e-01 -1.33435855e-05]\n",
            " [ 3.12058673e-02 -1.96187343e-05 -1.48769259e-04 -1.46324924e-04\n",
            "   7.32558313e-04  6.05041935e-02  1.50916556e-03 -2.74597530e-03\n",
            "  -1.33435855e-05  9.89268955e-01]]\n"
          ]
        }
      ],
      "source": [
        "n = 10\n",
        "N = 100\n",
        "B, Strue, E, y_samples, S = generate_sparse_covariance(n, N)\n",
        "\n",
        "# Parameters for the elastic-net penalty and ADMM algorithm\n",
        "lambda_ = 0.194  # Regularization strength\n",
        "alpha = 1  # Mixing parameter (0 = Ridge, 1 = Lasso)\n",
        "rho = 1.0  # ADMM penalty parameter\n",
        "max_iter = 100  # Maximum number of iterations\n",
        "tol = 1e-4  # Convergence tolerance\n",
        "\n",
        "# Run the ADMM algorithm using the generated sample covariance matrix\n",
        "B_estimate = admm_precision_matrix(S, lambda_, alpha, rho, max_iter, tol)\n",
        "\n",
        "print(\"Estimated Precision Matrix (B estimate):\")\n",
        "print(B_estimate)\n",
        "\n",
        "#print(B_estimate @ B_estimate)\n",
        "\n",
        "# Make the estimated precision matrix symmetric\n",
        "B_estimate = (B_estimate + B_estimate.T) / 2\n",
        "\n",
        "# Verify the symmetry and print the adjusted B_estimate\n",
        "print(\"Symmetric Estimated Precision Matrix (B estimate):\")\n",
        "print(B_estimate)\n",
        "\n",
        "# Test the matrix by computing its square\n",
        "#print(\"B_estimate @ B_estimate (should approximate the inverse covariance matrix):\")\n",
        "#print(B_estimate @ B_estimate)"
      ]
    },
    {
      "cell_type": "code",
      "execution_count": 13,
      "metadata": {
        "id": "TMxbNpN7Ltui"
      },
      "outputs": [],
      "source": [
        "B_estimate = hard_threshold(B_estimate , 0.01)"
      ]
    },
    {
      "cell_type": "markdown",
      "metadata": {
        "id": "wXBz7o4uNdUm"
      },
      "source": [
        "Plotting results"
      ]
    },
    {
      "cell_type": "code",
      "execution_count": 14,
      "metadata": {
        "id": "jYP0IuYCNiwM"
      },
      "outputs": [],
      "source": [
        "import matplotlib.pyplot as plt"
      ]
    },
    {
      "cell_type": "code",
      "execution_count": 15,
      "metadata": {
        "colab": {
          "base_uri": "https://localhost:8080/",
          "height": 1000
        },
        "id": "p_Nu50YOsbVL",
        "outputId": "ef735688-4e1f-44aa-b933-0b17c9457ecf"
      },
      "outputs": [
        {
          "name": "stdout",
          "output_type": "stream",
          "text": [
            "Minimum eigenvalue: 0.17447327709166205\n"
          ]
        },
        {
          "data": {
            "text/plain": [
              "<Figure size 640x480 with 0 Axes>"
            ]
          },
          "metadata": {},
          "output_type": "display_data"
        },
        {
          "data": {
            "image/png": "[encoded data removed]",
            "text/plain": [
              "<Figure size 1200x1200 with 4 Axes>"
            ]
          },
          "metadata": {},
          "output_type": "display_data"
        }
      ],
      "source": [
        "# Create figure.\n",
        "plt.figure()\n",
        "plt.figure(figsize=(12, 12))\n",
        "\n",
        "# Plot sparsity pattern for B matrix.\n",
        "plt.subplot(2, 2, 1)\n",
        "plt.spy(B)\n",
        "plt.title('B matrix', fontsize=16)\n",
        "\n",
        "# Plot sparsity pattern for Omega/Strue matrix.\n",
        "plt.subplot(2, 2, 2)\n",
        "plt.spy(B_estimate)\n",
        "plt.title('B_hat', fontsize=16)\n",
        "\n",
        "# Plot sparsity pattern for Sample covariance matrix.\n",
        "plt.subplot(2, 2, 3)\n",
        "plt.spy(E)\n",
        "plt.title('True covariance', fontsize=16)\n",
        "\n",
        "# Plot sparsity pattern for Sample covariance matrix.\n",
        "plt.subplot(2, 2, 4)\n",
        "plt.spy(S)\n",
        "plt.title('Sample covariance', fontsize=16)\n",
        "\n",
        "eigenvalues = np.linalg.eigvals(B)\n",
        "min_eigenvalue = np.min(eigenvalues)\n",
        "print(\"Minimum eigenvalue:\", min_eigenvalue)"
      ]
    },
    {
      "cell_type": "code",
      "execution_count": 16,
      "metadata": {
        "id": "yQ0IxH__tf0E"
      },
      "outputs": [],
      "source": [
        "import numpy as np\n",
        "from sklearn.metrics import confusion_matrix, accuracy_score, precision_score, recall_score, f1_score\n",
        "def evaluate_metrics_vs_lambda(B, lambda_values, alpha=1, rho=1.0, max_iter=100, tol=1e-4, threshold=1e-4):\n",
        "\n",
        "    metrics = {\n",
        "        \"lambda\": [],\n",
        "        \"accuracy\": [],\n",
        "        \"precision\": [],\n",
        "        \"recall\": [],\n",
        "        \"f1_score\": []\n",
        "    }\n",
        "\n",
        "    for lambda_ in lambda_values:\n",
        "        # Compute the estimated precision matrix\n",
        "        B_estimate = admm_precision_matrix(B, lambda_, alpha, rho, max_iter, tol)\n",
        "\n",
        "        # Apply thresholding to B_estimate only\n",
        "        B_estimate_thresholded = hard_threshold(B_estimate, threshold)\n",
        "\n",
        "        # Flatten ground truth and thresholded estimate for comparison\n",
        "        ground_truth = (B != 0).astype(int).flatten()  # Non-zero is Class 1, Zero is Class 0\n",
        "        predicted = (B_estimate_thresholded != 0).astype(int).flatten()\n",
        "\n",
        "        # Calculate metrics\n",
        "        accuracy = accuracy_score(ground_truth, predicted)\n",
        "        precision = precision_score(ground_truth, predicted)\n",
        "        recall = recall_score(ground_truth, predicted)\n",
        "        f1 = f1_score(ground_truth, predicted)\n",
        "\n",
        "        # Store metrics\n",
        "        metrics[\"lambda\"].append(lambda_)\n",
        "        metrics[\"accuracy\"].append(accuracy)\n",
        "        metrics[\"precision\"].append(precision)\n",
        "        metrics[\"recall\"].append(recall)\n",
        "        metrics[\"f1_score\"].append(f1)\n",
        "\n",
        "    return metrics"
      ]
    },
    {
      "cell_type": "code",
      "execution_count": 17,
      "metadata": {
        "colab": {
          "base_uri": "https://localhost:8080/",
          "height": 1000
        },
        "id": "V2nbZQbUthdT",
        "outputId": "b5159b66-0f83-4b92-92f9-3cf7caa3c334"
      },
      "outputs": [
        {
          "name": "stdout",
          "output_type": "stream",
          "text": [
            "Converged after 23 iterations.\n",
            "Converged after 25 iterations.\n",
            "Converged after 25 iterations.\n",
            "Converged after 31 iterations.\n",
            "Converged after 32 iterations.\n",
            "Converged after 32 iterations.\n",
            "Converged after 31 iterations.\n",
            "Converged after 31 iterations.\n",
            "Converged after 32 iterations.\n",
            "Converged after 32 iterations.\n",
            "Converged after 33 iterations.\n",
            "Converged after 33 iterations.\n",
            "Converged after 35 iterations.\n",
            "Converged after 39 iterations.\n",
            "Converged after 40 iterations.\n",
            "Converged after 41 iterations.\n",
            "Converged after 42 iterations.\n",
            "Converged after 42 iterations.\n",
            "Converged after 42 iterations.\n",
            "Converged after 44 iterations.\n",
            "Metrics vs Lambda:\n",
            "      lambda  accuracy  precision    recall  f1_score\n",
            "0   0.100000      0.90   0.772727  1.000000  0.871795\n",
            "1   0.147368      0.90   0.772727  1.000000  0.871795\n",
            "2   0.194737      0.94   0.850000  1.000000  0.918919\n",
            "3   0.242105      0.83   0.680851  0.941176  0.790123\n",
            "4   0.289474      0.84   0.714286  0.882353  0.789474\n",
            "5   0.336842      0.81   0.702703  0.764706  0.732394\n",
            "6   0.384211      0.82   0.700000  0.823529  0.756757\n",
            "7   0.431579      0.84   0.714286  0.882353  0.789474\n",
            "8   0.478947      0.89   0.810811  0.882353  0.845070\n",
            "9   0.526316      0.90   0.833333  0.882353  0.857143\n",
            "10  0.573684      0.89   0.848485  0.823529  0.835821\n",
            "11  0.621053      0.89   0.848485  0.823529  0.835821\n",
            "12  0.668421      0.85   0.756757  0.823529  0.788732\n",
            "13  0.715789      0.84   0.800000  0.705882  0.750000\n",
            "14  0.763158      0.85   0.827586  0.705882  0.761905\n",
            "15  0.810526      0.87   0.862069  0.735294  0.793651\n",
            "16  0.857895      0.87   0.862069  0.735294  0.793651\n",
            "17  0.905263      0.88   0.866667  0.764706  0.812500\n",
            "18  0.952632      0.88   0.866667  0.764706  0.812500\n",
            "19  1.000000      0.89   0.925926  0.735294  0.819672\n"
          ]
        },
        {
          "data": {
            "image/png": "[encoded data removed]",
            "text/plain": [
              "<Figure size 640x480 with 1 Axes>"
            ]
          },
          "metadata": {},
          "output_type": "display_data"
        }
      ],
      "source": [
        "lambda_values = np.linspace(0.1, 1, 20)  # 20 values from 0.1 to 1.0\n",
        "\n",
        "metrics = evaluate_metrics_vs_lambda(B, lambda_values)\n",
        "\n",
        "import pandas as pd\n",
        "\n",
        "# Convert metrics to a DataFrame\n",
        "metrics_df = pd.DataFrame(metrics)\n",
        "\n",
        "print(\"Metrics vs Lambda:\")\n",
        "print(metrics_df)\n",
        "\n",
        "# Plotting metrics vs. lambda\n",
        "import matplotlib.pyplot as plt\n",
        "\n",
        "for metric in [\"accuracy\", \"precision\", \"recall\", \"f1_score\"]:\n",
        "    plt.plot(metrics[\"lambda\"], metrics[metric], label=metric)\n",
        "plt.xscale(\"log\")\n",
        "plt.xlabel(\"Lambda\")\n",
        "plt.ylabel(\"Metric Value\")\n",
        "plt.title(\"Metrics vs Lambda\")\n",
        "plt.legend()\n",
        "plt.show()"
      ]
    }
  ],
  "metadata": {
    "colab": {
      "provenance": []
    },
    "kernelspec": {
      "display_name": "base",
      "language": "python",
      "name": "python3"
    },
    "language_info": {
      "codemirror_mode": {
        "name": "ipython",
        "version": 3
      },
      "file_extension": ".py",
      "mimetype": "text/x-python",
      "name": "python",
      "nbconvert_exporter": "python",
      "pygments_lexer": "ipython3",
      "version": "3.11.5"
    }
  },
  "nbformat": 4,
  "nbformat_minor": 0
}
